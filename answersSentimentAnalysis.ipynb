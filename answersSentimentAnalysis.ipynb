{
 "cells": [
  {
   "attachments": {},
   "cell_type": "markdown",
   "metadata": {},
   "source": [
    "O problema que estamos tentanto resolver nessa sessão do projeto é o de entender o nível de indelicadeza das respostas na plataforma do StackOverflow.\n",
    "\n",
    "A nossa suposição inicial baseada na experiência e uso da plataforma é que a maioria das respostas são educadas e respeitosas, mas que existe uma minoria que não segue essas regras.\n",
    "\n",
    "Para entender melhor esse problema, iremos analisar as respostas com um classificador de sentimentos e classificá-las em positivas, negativas ou neutra. A biblioteca escolhida para isso é a transformers, utilizando o modelo cardiffnlp/twitter-xlm-roberta-base-sentiment, que foi treinado com cerca de 200 milhões de tweets."
   ]
  },
  {
   "attachments": {},
   "cell_type": "markdown",
   "metadata": {},
   "source": [
    "## Importação e pré-processamento do dataset"
   ]
  },
  {
   "cell_type": "code",
   "execution_count": 2,
   "metadata": {},
   "outputs": [],
   "source": [
    "import pandas as pd\n",
    "\n",
    "# Lê dataset de respostas\n",
    "answers_df = pd.read_csv('data/Answers_sample.csv', encoding=\"ISO-8859-1\", usecols = ['Id', 'Score', 'Body'])\n",
    "\n",
    "# Caso o arquivo Answers_sample.csv não exista ainda, descomente a linha abaixo\n",
    "# answers_df = pd.read_csv('data/Answers.csv', encoding=\"ISO-8859-1\", usecols = ['Id', 'Score', 'Body'])\n",
    "# answers_df_sample = answers_df.sample(20000)\n",
    "# answers_df_sample.to_csv('data/Answers_sample.csv', index=False)"
   ]
  },
  {
   "cell_type": "code",
   "execution_count": 3,
   "metadata": {},
   "outputs": [
    {
     "data": {
      "text/html": [
       "<div>\n",
       "<style scoped>\n",
       "    .dataframe tbody tr th:only-of-type {\n",
       "        vertical-align: middle;\n",
       "    }\n",
       "\n",
       "    .dataframe tbody tr th {\n",
       "        vertical-align: top;\n",
       "    }\n",
       "\n",
       "    .dataframe thead th {\n",
       "        text-align: right;\n",
       "    }\n",
       "</style>\n",
       "<table border=\"1\" class=\"dataframe\">\n",
       "  <thead>\n",
       "    <tr style=\"text-align: right;\">\n",
       "      <th></th>\n",
       "      <th>Id</th>\n",
       "      <th>Score</th>\n",
       "      <th>Body</th>\n",
       "    </tr>\n",
       "  </thead>\n",
       "  <tbody>\n",
       "    <tr>\n",
       "      <th>0</th>\n",
       "      <td>12917285</td>\n",
       "      <td>1</td>\n",
       "      <td>Quick way to force a rebind. dataGridView.Data...</td>\n",
       "    </tr>\n",
       "    <tr>\n",
       "      <th>1</th>\n",
       "      <td>39657792</td>\n",
       "      <td>0</td>\n",
       "      <td>Another option is to transpose your output wc_...</td>\n",
       "    </tr>\n",
       "    <tr>\n",
       "      <th>2</th>\n",
       "      <td>15082200</td>\n",
       "      <td>1</td>\n",
       "      <td>The only way to do this was to edit the header...</td>\n",
       "    </tr>\n",
       "    <tr>\n",
       "      <th>3</th>\n",
       "      <td>4092346</td>\n",
       "      <td>8</td>\n",
       "      <td>If you have to hand code one, recursive descen...</td>\n",
       "    </tr>\n",
       "    <tr>\n",
       "      <th>4</th>\n",
       "      <td>26484032</td>\n",
       "      <td>1</td>\n",
       "      <td>Updated Answer. If you want to get all files f...</td>\n",
       "    </tr>\n",
       "    <tr>\n",
       "      <th>...</th>\n",
       "      <td>...</td>\n",
       "      <td>...</td>\n",
       "      <td>...</td>\n",
       "    </tr>\n",
       "    <tr>\n",
       "      <th>19995</th>\n",
       "      <td>33542310</td>\n",
       "      <td>0</td>\n",
       "      <td>First of all  attribute should be unique on a ...</td>\n",
       "    </tr>\n",
       "    <tr>\n",
       "      <th>19996</th>\n",
       "      <td>8937321</td>\n",
       "      <td>2</td>\n",
       "      <td>I think you need to show content in  tag,. the...</td>\n",
       "    </tr>\n",
       "    <tr>\n",
       "      <th>19997</th>\n",
       "      <td>21499491</td>\n",
       "      <td>0</td>\n",
       "      <td>So you want to remove all the non-digits from ...</td>\n",
       "    </tr>\n",
       "    <tr>\n",
       "      <th>19998</th>\n",
       "      <td>30738604</td>\n",
       "      <td>0</td>\n",
       "      <td>To export model data to PDF you will have to u...</td>\n",
       "    </tr>\n",
       "    <tr>\n",
       "      <th>19999</th>\n",
       "      <td>37640517</td>\n",
       "      <td>0</td>\n",
       "      <td>@PaulHankin already provided a perfect answer....</td>\n",
       "    </tr>\n",
       "  </tbody>\n",
       "</table>\n",
       "<p>20000 rows × 3 columns</p>\n",
       "</div>"
      ],
      "text/plain": [
       "             Id  Score                                               Body\n",
       "0      12917285      1  Quick way to force a rebind. dataGridView.Data...\n",
       "1      39657792      0  Another option is to transpose your output wc_...\n",
       "2      15082200      1  The only way to do this was to edit the header...\n",
       "3       4092346      8  If you have to hand code one, recursive descen...\n",
       "4      26484032      1  Updated Answer. If you want to get all files f...\n",
       "...         ...    ...                                                ...\n",
       "19995  33542310      0  First of all  attribute should be unique on a ...\n",
       "19996   8937321      2  I think you need to show content in  tag,. the...\n",
       "19997  21499491      0  So you want to remove all the non-digits from ...\n",
       "19998  30738604      0  To export model data to PDF you will have to u...\n",
       "19999  37640517      0  @PaulHankin already provided a perfect answer....\n",
       "\n",
       "[20000 rows x 3 columns]"
      ]
     },
     "execution_count": 3,
     "metadata": {},
     "output_type": "execute_result"
    }
   ],
   "source": [
    "# Prepara dataset de respostas, removendo tags html e quebras de linha\n",
    "answers_df['Body'] = answers_df['Body'].str.replace('<pre>.*?</pre>', '', regex=True)\n",
    "answers_df['Body'] = answers_df['Body'].str.replace('<code>.*?</code>', '', regex=True)\n",
    "answers_df['Body'] = answers_df['Body'].str.replace('<[^>]+>', '', regex=True)\n",
    "answers_df['Body'] = answers_df['Body'].str.replace('\\n+', '. ', regex=True)\n",
    "answers_df"
   ]
  },
  {
   "attachments": {},
   "cell_type": "markdown",
   "metadata": {},
   "source": [
    "# Aplicação do modelo de classificação de sentimentos"
   ]
  },
  {
   "cell_type": "code",
   "execution_count": 11,
   "metadata": {},
   "outputs": [],
   "source": [
    "from transformers import pipeline\n",
    "\n",
    "# Importa e inicializa o modelo de análise de sentimento\n",
    "model_path = f\"cardiffnlp/twitter-xlm-roberta-base-sentiment\"\n",
    "classifier = pipeline(task=\"sentiment-analysis\", model=model_path, tokenizer=model_path)"
   ]
  },
  {
   "attachments": {},
   "cell_type": "markdown",
   "metadata": {},
   "source": [
    "O seguinte código para classificação de sentimento demora cerca de 9 horas para ser executado, portanto, ao invés de executá-lo a tomo momento, na célula posterior, utilizamos o arquivo \"results/processed_answers.csv\" para carregar os resultados já processados."
   ]
  },
  {
   "cell_type": "code",
   "execution_count": null,
   "metadata": {},
   "outputs": [],
   "source": [
    "from concurrent.futures import ThreadPoolExecutor, as_completed\n",
    "\n",
    "# Aplica a função de classificação de sentimento\n",
    "def classify_sentiment(body):\n",
    "    sentiment = classifier(body)[0]\n",
    "    return [sentiment['label'], sentiment['score']]\n",
    "\n",
    "# Cria um executor de threads e uma lista de futuros\n",
    "executor = ThreadPoolExecutor()\n",
    "\n",
    "# Popula uma lista de futuros com os resultados da classificação de sentimento\n",
    "futures = []\n",
    "for body in answers_df['Body']:\n",
    "    future = executor.submit(classify_sentiment, body)\n",
    "    futures.append(future)\n",
    "\n",
    "# Executa as threads da lista de futuros e armazena os resultados\n",
    "results = []\n",
    "for index, future in enumerate(as_completed(futures)):\n",
    "    try:\n",
    "        result = future.result()\n",
    "        row = answers_df.iloc[index]\n",
    "        results.append([row.Id, row.Score, row.Body, result[0], result[1]])\n",
    "        print(f\"Completed {index+1} - {result}\")\n",
    "\n",
    "    except Exception as e:\n",
    "        results.append([])\n",
    "        print(f\"Error: {e}\")\n",
    "\n",
    "# Salva os resultados em um arquivo csv\n",
    "processed = pd.DataFrame(results, columns=['Id', 'Score', 'Body', 'Sentiment_Label', 'Sentiment_Score'])\n",
    "processed.to_csv('results/processed_answers.csv', index=False)"
   ]
  },
  {
   "attachments": {},
   "cell_type": "markdown",
   "metadata": {},
   "source": [
    "Aqui vale resaltar que devido a algum problema da execução em paralelo de classificação, que não conseguimos resolver a tempo, algumas classificações não foram realizadas, portanto, o arquivo \"results/processed_answers.csv\" contém apenas 18752 respostas classificadas (ao invés de 20000), e devemos filtrá-las."
   ]
  },
  {
   "cell_type": "code",
   "execution_count": 5,
   "metadata": {},
   "outputs": [
    {
     "data": {
      "text/html": [
       "<div>\n",
       "<style scoped>\n",
       "    .dataframe tbody tr th:only-of-type {\n",
       "        vertical-align: middle;\n",
       "    }\n",
       "\n",
       "    .dataframe tbody tr th {\n",
       "        vertical-align: top;\n",
       "    }\n",
       "\n",
       "    .dataframe thead th {\n",
       "        text-align: right;\n",
       "    }\n",
       "</style>\n",
       "<table border=\"1\" class=\"dataframe\">\n",
       "  <thead>\n",
       "    <tr style=\"text-align: right;\">\n",
       "      <th></th>\n",
       "      <th>Id</th>\n",
       "      <th>Score</th>\n",
       "      <th>Body</th>\n",
       "      <th>Sentiment_Label</th>\n",
       "      <th>Sentiment_Score</th>\n",
       "    </tr>\n",
       "  </thead>\n",
       "  <tbody>\n",
       "    <tr>\n",
       "      <th>2</th>\n",
       "      <td>15082200</td>\n",
       "      <td>1</td>\n",
       "      <td>The only way to do this was to edit the header...</td>\n",
       "      <td>neutral</td>\n",
       "      <td>0.824382</td>\n",
       "    </tr>\n",
       "    <tr>\n",
       "      <th>4</th>\n",
       "      <td>26484032</td>\n",
       "      <td>1</td>\n",
       "      <td>Updated Answer. If you want to get all files f...</td>\n",
       "      <td>neutral</td>\n",
       "      <td>0.826687</td>\n",
       "    </tr>\n",
       "    <tr>\n",
       "      <th>6</th>\n",
       "      <td>30668892</td>\n",
       "      <td>0</td>\n",
       "      <td>Your  is not a MySQLi connection link. Check i...</td>\n",
       "      <td>neutral</td>\n",
       "      <td>0.830514</td>\n",
       "    </tr>\n",
       "    <tr>\n",
       "      <th>7</th>\n",
       "      <td>28751626</td>\n",
       "      <td>2</td>\n",
       "      <td>EDIT 2 - Revised answer based on comments:. Fr...</td>\n",
       "      <td>neutral</td>\n",
       "      <td>0.526152</td>\n",
       "    </tr>\n",
       "    <tr>\n",
       "      <th>8</th>\n",
       "      <td>22843514</td>\n",
       "      <td>3</td>\n",
       "      <td>Usually we do something like this:. #if define...</td>\n",
       "      <td>neutral</td>\n",
       "      <td>0.788638</td>\n",
       "    </tr>\n",
       "    <tr>\n",
       "      <th>...</th>\n",
       "      <td>...</td>\n",
       "      <td>...</td>\n",
       "      <td>...</td>\n",
       "      <td>...</td>\n",
       "      <td>...</td>\n",
       "    </tr>\n",
       "    <tr>\n",
       "      <th>19995</th>\n",
       "      <td>33542310</td>\n",
       "      <td>0</td>\n",
       "      <td>First of all  attribute should be unique on a ...</td>\n",
       "      <td>neutral</td>\n",
       "      <td>0.634899</td>\n",
       "    </tr>\n",
       "    <tr>\n",
       "      <th>19996</th>\n",
       "      <td>8937321</td>\n",
       "      <td>2</td>\n",
       "      <td>I think you need to show content in  tag,. the...</td>\n",
       "      <td>neutral</td>\n",
       "      <td>0.604542</td>\n",
       "    </tr>\n",
       "    <tr>\n",
       "      <th>19997</th>\n",
       "      <td>21499491</td>\n",
       "      <td>0</td>\n",
       "      <td>So you want to remove all the non-digits from ...</td>\n",
       "      <td>neutral</td>\n",
       "      <td>0.473182</td>\n",
       "    </tr>\n",
       "    <tr>\n",
       "      <th>19998</th>\n",
       "      <td>30738604</td>\n",
       "      <td>0</td>\n",
       "      <td>To export model data to PDF you will have to u...</td>\n",
       "      <td>neutral</td>\n",
       "      <td>0.704524</td>\n",
       "    </tr>\n",
       "    <tr>\n",
       "      <th>19999</th>\n",
       "      <td>37640517</td>\n",
       "      <td>0</td>\n",
       "      <td>@PaulHankin already provided a perfect answer....</td>\n",
       "      <td>neutral</td>\n",
       "      <td>0.542068</td>\n",
       "    </tr>\n",
       "  </tbody>\n",
       "</table>\n",
       "<p>18752 rows × 5 columns</p>\n",
       "</div>"
      ],
      "text/plain": [
       "             Id  Score                                               Body  \\\n",
       "2      15082200      1  The only way to do this was to edit the header...   \n",
       "4      26484032      1  Updated Answer. If you want to get all files f...   \n",
       "6      30668892      0  Your  is not a MySQLi connection link. Check i...   \n",
       "7      28751626      2  EDIT 2 - Revised answer based on comments:. Fr...   \n",
       "8      22843514      3  Usually we do something like this:. #if define...   \n",
       "...         ...    ...                                                ...   \n",
       "19995  33542310      0  First of all  attribute should be unique on a ...   \n",
       "19996   8937321      2  I think you need to show content in  tag,. the...   \n",
       "19997  21499491      0  So you want to remove all the non-digits from ...   \n",
       "19998  30738604      0  To export model data to PDF you will have to u...   \n",
       "19999  37640517      0  @PaulHankin already provided a perfect answer....   \n",
       "\n",
       "      Sentiment_Label  Sentiment_Score  \n",
       "2             neutral         0.824382  \n",
       "4             neutral         0.826687  \n",
       "6             neutral         0.830514  \n",
       "7             neutral         0.526152  \n",
       "8             neutral         0.788638  \n",
       "...               ...              ...  \n",
       "19995         neutral         0.634899  \n",
       "19996         neutral         0.604542  \n",
       "19997         neutral         0.473182  \n",
       "19998         neutral         0.704524  \n",
       "19999         neutral         0.542068  \n",
       "\n",
       "[18752 rows x 5 columns]"
      ]
     },
     "execution_count": 5,
     "metadata": {},
     "output_type": "execute_result"
    }
   ],
   "source": [
    "# Lê o arquivo csv com os resultados da classificação de sentimento e adiciona ao dataset de respostas\n",
    "answers_df_classified = pd.read_csv('results/processed_answers.csv', encoding=\"ISO-8859-1\", usecols = ['Id', 'Score', 'Body', 'Sentiment_Label', 'Sentiment_Score'])\n",
    "\n",
    "# Filtra as respostas que não foram classificadas\n",
    "answers_df_classified = answers_df_classified[answers_df_classified['Sentiment_Label'].notna()]\n",
    "answers_df_classified"
   ]
  },
  {
   "attachments": {},
   "cell_type": "markdown",
   "metadata": {},
   "source": [
    "# Análise dos Resultados"
   ]
  },
  {
   "attachments": {},
   "cell_type": "markdown",
   "metadata": {},
   "source": [
    "## Histograma das classificações\n",
    "Iniciamos nossa análise explorando a distribuição das classificações para entender melhor o contexto do problema. Foi observado que a maioria das respostas é classificada como neutra, o que é apropriado para o propósito da plataforma, que é fornecer uma comunidade para discussões técnicas e objetivas, sem a necessidade de julgamentos de valor."
   ]
  },
  {
   "cell_type": "code",
   "execution_count": 6,
   "metadata": {},
   "outputs": [
    {
     "data": {
      "text/plain": [
       "<Axes: title={'center': 'Sentiment_Label'}, xlabel='label', ylabel='Count'>"
      ]
     },
     "execution_count": 6,
     "metadata": {},
     "output_type": "execute_result"
    },
    {
     "data": {
      "image/png": "[encoded data removed]",
      "text/plain": [
       "<Figure size 640x480 with 1 Axes>"
      ]
     },
     "metadata": {},
     "output_type": "display_data"
    }
   ],
   "source": [
    "# Gera um gráfico de barras com a quantidade de respostas por sentimento\n",
    "answers_df_classified.value_counts('Sentiment_Label').plot(kind='bar', title='Sentiment_Label', ylabel='Count', xlabel='label')"
   ]
  },
  {
   "attachments": {},
   "cell_type": "markdown",
   "metadata": {},
   "source": [
    "## Análise dado a dado\n",
    "A seguir vamos analisar algum exemplos de comentários classficados como neutro, negativos e positivos"
   ]
  },
  {
   "cell_type": "code",
   "execution_count": 35,
   "metadata": {},
   "outputs": [],
   "source": [
    "# Filtra apenas as respostas com sentimento negativo\n",
    "negative_answers_df = answers_df_classified[answers_df_classified['Sentiment_Label'] == 'negative']\n",
    "negative_answers_df = negative_answers_df.sort_values(by=['Sentiment_Score'], ascending=False)\n",
    "\n",
    "# Filtra apenas as respostas com sentimento positivo\n",
    "positive_answers_df = answers_df_classified[answers_df_classified['Sentiment_Label'] == 'positive']\n",
    "positive_answers_df = positive_answers_df.sort_values(by=['Sentiment_Score'], ascending=False)\n",
    "\n",
    "# Filtra apenas as respostas com sentimento neutro\n",
    "neutral_answers_df = answers_df_classified[answers_df_classified['Sentiment_Label'] == 'neutral']\n",
    "neutral_answers_df = neutral_answers_df.sort_values(by=['Sentiment_Score'], ascending=False)"
   ]
  },
  {
   "cell_type": "code",
   "execution_count": 29,
   "metadata": {},
   "outputs": [],
   "source": [
    "def print_text(text, max_line_length, start_text = \"\"):\n",
    "    lines = []\n",
    "    words = text.split()\n",
    "    current_line = \"\"\n",
    "    for word in words:\n",
    "        if len(current_line) + len(word) + 1 <= max_line_length:\n",
    "            current_line += \" \" + word\n",
    "        else:\n",
    "            lines.append(current_line.strip())\n",
    "            current_line = word\n",
    "    if current_line:\n",
    "        lines.append(current_line.strip())\n",
    "    print(f\"\\n{start_text}\".join(lines))"
   ]
  },
  {
   "cell_type": "code",
   "execution_count": 36,
   "metadata": {},
   "outputs": [
    {
     "name": "stdout",
     "output_type": "stream",
     "text": [
      "Sentiment_Label: neutral, Sentiment_Score: 0.9152563214302064\n",
      "Body: Basically, you have a tightly coupled bowl of spaghetti which in it's current state, probably\n",
      "  can't be untangled.. The main problem you have is the fact that you are creating new instance of , ,\n",
      "  and all over the place. This means that from one part of your application to the next, they are all\n",
      "  using their own instance of these classes, which don't relate to each other.. The other problem is\n",
      "  that many of these parts of the application actually shouldn't need direct access to the objects\n",
      "  that you are try to access.. Instead, start by breaking down you application into usable\n",
      "  components/elements, with defined responsibilities.. For example, the UI parts should gather\n",
      "  information which is feed back into the system for processing. The processing layer shouldn't care\n",
      "  where this information came from, only that it conforms to it's needs.. For example.... The\n",
      "  following simply generates a login dialog which will return a object which represents the username\n",
      "  and password that the user typed in (this is a very basic example, so validation is light). The\n",
      "  login dialog does not care about how the login process occurs, only it is only responsible for\n",
      "  getting the information. Equally, no other part of the application needs access to the fields within\n",
      "  the , they should only care about the result. import java.awt.BorderLayout;. import\n",
      "  java.awt.EventQueue;. import java.awt.GridBagConstraints;. import java.awt.GridBagLayout;. import\n",
      "  java.awt.Insets;. import javax.swing.JFrame;. import javax.swing.JLabel;. import\n",
      "  javax.swing.JOptionPane;. import javax.swing.JPanel;. import javax.swing.JPasswordField;. import\n",
      "  javax.swing.JTextField;. import javax.swing.UIManager;. import\n",
      "  javax.swing.UnsupportedLookAndFeelException;. public class ExampleGame {. public static void\n",
      "  main(String[] args) {. new ExampleGame();. }. public ExampleGame() {. EventQueue.invokeLater(new\n",
      "  Runnable() {. @Override. public void run() {. try {.\n",
      "  UIManager.setLookAndFeel(UIManager.getSystemLookAndFeelClassName());. } catch\n",
      "  (ClassNotFoundException | InstantiationException | IllegalAccessException |\n",
      "  UnsupportedLookAndFeelException ex) {. }. LoginPane pane = new LoginPane();. int result =\n",
      "  JOptionPane.showOptionDialog(null, pane, \"Login\", JOptionPane.OK_CANCEL_OPTION,\n",
      "  JOptionPane.PLAIN_MESSAGE, null, new String[]{\"Login\", \"Cancel\"}, 0);. if (result == 0) {. User user\n",
      "  = pane.getUser();. // Perform the login.... }. }. });. }. public class LoginPane extends JPanel {.\n",
      "  private JTextField userName;. private JPasswordField password;. public LoginPane() {. userName = new\n",
      "  JTextField(10);. password = new JPasswordField(10);. setLayout(new GridBagLayout());.\n",
      "  GridBagConstraints gbc = new GridBagConstraints();. gbc.gridx = 0;. gbc.gridy = 0;. gbc.insets = new\n",
      "  Insets(4, 4, 4, 4);. gbc.anchor = GridBagConstraints.EAST;. add(new JLabel(\"Username:\"), gbc);.\n",
      "  gbc.gridx++;. gbc.fill = GridBagConstraints.HORIZONTAL;. add(userName, gbc);. gbc.gridx = 0;.\n",
      "  gbc.gridy++;. gbc.fill = GridBagConstraints.NONE;. add(new JLabel(\"Password:\"), gbc);. gbc.gridx++;.\n",
      "  gbc.fill = GridBagConstraints.HORIZONTAL;. add(password, gbc);. }. public User getUser() {. return\n",
      "  new User(userName.getText(), password.getPassword());. }. }. public class User {. private String\n",
      "  name;. private char[] password;. public User(String name, char[] password) {. this.name = name;.\n",
      "  this.password = password;. }. }. }. You should take a look at the Model-View-Control pattern. MVC\n",
      "  Pattern. ModelÃÂ¢ÃÂÃÂviewÃÂ¢ÃÂÃÂcontroller. Understanding Model-View-Controller. Program\n",
      "  to interface. Code to Interface, Access by name and Instance Data. Program to an interface, not an\n",
      "  implementation.\n",
      "\n",
      "Sentiment_Label: neutral, Sentiment_Score: 0.9113855957984924\n",
      "Body: Data validation does not require you to do row by row, by default Excel seems to make it so\n",
      "  (by fixing row and column with dollar signs), but that can be easily changed. . What you can do is\n",
      "  create a formula in your conditional formatting for the top most row where you want this applied to,\n",
      "  now get rid of the dollar signs in front of the row numbers in your formula and extend the range\n",
      "  where this applies for to all the thousands of rows that you want it applied to.. formula in your\n",
      "  case for C2 will be: this can be applied for C2:F2000 :. Or what you can do is specify this formula\n",
      "  for C1 ( ) and apply it to C:F.. No need for VBA..\n",
      "\n",
      "Sentiment_Label: neutral, Sentiment_Score: 0.9105709195137024\n",
      "Body: Create a property on the model that calls get_ {next,previous}_ by_*() and returns the\n",
      "  timedelta. For advanced functionality, implement caching..\n",
      "\n"
     ]
    }
   ],
   "source": [
    "# Imprime o Body das 3 primeiras respostas mais neutras\n",
    "for index, row in neutral_answers_df.head(3).iterrows():\n",
    "    print(f\"Sentiment_Label: {row.Sentiment_Label}, Sentiment_Score: {row.Sentiment_Score}\")\n",
    "    print_text(f\"Body: {row.Body}\", 100, \"  \")\n",
    "    print()"
   ]
  },
  {
   "cell_type": "code",
   "execution_count": 30,
   "metadata": {},
   "outputs": [
    {
     "name": "stdout",
     "output_type": "stream",
     "text": [
      "Sentiment_Label: negative, Sentiment_Score: 0.946388840675354\n",
      "Body: . why does the standard provide a constructor that takes a T* on shared_ptr if it's so unsafe\n",
      "  to do?. Because it's the only way to have s without being intrusive. You can use a on anything. I've\n",
      "  even used them on objects from C interfaces, via the use of a destructor. Things like a and so\n",
      "  forth. That way, I never have to free anything ever again.. You can't do that with ; it only works\n",
      "  for -style objects.. Also, there is , which creates a directly from an object types and the argument\n",
      "  to the constructor. So you never even see the pointer (and it usually allocates the object and its\n",
      "  ref-count in one allocation instead of two).. The proper C++ idiom with is very simple: always use\n",
      "  or . If you can't use them, then the proper idiom is to only use the direct naked pointer\n",
      "  constructor in tandem with : Never use it on pointers that you don't know the origin of.. Is there\n",
      "  an alternative with shared/weak_ptr?. No, but there are tools to make one if you so desire. Besides\n",
      "  the obvious method (run through your collection periodically and remove dead s), you can associate a\n",
      "  deleter with the that will (in addition to deleting the pointer) call whatever cleanup function to\n",
      "  remove those s.. Intuitively, there is a performance penalty in doing two memory allocations to\n",
      "  create an object . See , above.. There is also a locality penalty when accessing the object\n",
      "  (assuming that an AddRef is frequently followed by reading the content of the object, which seems\n",
      "  likely).. You don't have to copy the to talk to its contents, nor do you have to bump the reference\n",
      "  count to do so.. Now, let's talk about some of the things can't do. It's intrusive. It can't be used\n",
      "  with arbitrary allocators or deleters (obviously not as important when it's intrusive). It can't do\n",
      "  pointer aliasing, where you have a to a member of an object, but the actual reference count is for\n",
      "  the object it is a member of. That's a very useful thing to be able to do.. Oh yeah, it's not\n",
      "  cross-platform. It's not bound to COM, , and all of that overhead..\n",
      "\n",
      "Sentiment_Label: negative, Sentiment_Score: 0.9451282620429992\n",
      "Body: Reset the variable .. foreach ($tables as $table =&gt; $queries) {. $insert = '';. foreach\n",
      "  ($queries as $query) {. $insert .= $query['column'] . '=&gt;' . $query['value'] . ',';. }. echo\n",
      "  'insert(' . $table . ', array(' . $insert . ')';. }.\n",
      "\n",
      "Sentiment_Label: negative, Sentiment_Score: 0.9446787238121032\n",
      "Body: You can not convert to string if your integer value is zero or starts with zero (in which\n",
      "  case 1st zero will be neglected).. Try change.. int NUM=null;.\n",
      "\n"
     ]
    }
   ],
   "source": [
    "# Imprime o Body das 3 primeiras respostas mais negativas\n",
    "for index, row in negative_answers_df.head(3).iterrows():\n",
    "    print(f\"Sentiment_Label: {row.Sentiment_Label}, Sentiment_Score: {row.Sentiment_Score}\")\n",
    "    print_text(f\"Body: {row.Body}\", 100, \"  \")\n",
    "    print()"
   ]
  },
  {
   "cell_type": "code",
   "execution_count": 32,
   "metadata": {},
   "outputs": [
    {
     "name": "stdout",
     "output_type": "stream",
     "text": [
      "Sentiment_Label: positive, Sentiment_Score: 0.8874438405036926\n",
      "Body: I have quite a large .NET &lt;-> COM bookmark collection that I'm dumping below. . The\n",
      "  problem is that no one tutorial/article covers all the basics and gotacha's. So you need to go\n",
      "  through a couple of them and mix and match, depending on what you want to do.. Here's the best of\n",
      "  what I've found so far.... General .NET COM Articles/Tutorials . .NET - COM Interoperability. . COM\n",
      "  Interoperability in .NET Framework: Part I. . Understanding Classic COM Interoperability With .NET\n",
      "  Applications. . Exposing .NET Components to COM. . Building COM Objects in C#. . Calling Managed\n",
      "  .NET C# COM Objects from Unmanaged C++ Code. . Native &amp; Managed Interop Made Simple. . Using\n",
      "  .NET Assembly with COM Client. . Moserware: Using Obscure Windows COM APIs in .NET . COM\n",
      "  Interoperability in .NET Part 1 Part 2. Part 3 . COM Interop Part 1: C# Client Tutorial. Part 2: C#\n",
      "  Server Tutorial . Calling a COM Component From C# (Late Binding) . Building COM Objects in C#. MSDN\n",
      "  on .NET &amp; COM . COM Interop Tutorials (C#) . Exposing .NET Framework Components to COM . Interop\n",
      "  Marshaling . Advanced COM Interoperability . How to: Register a Component for COM Interop . ActiveX\n",
      "  in .NET . Internet Explorer ActiveX Control C# Class Library . Create ActiveX in .NET Step by Step.\n",
      "  . Dynamically adding ActiveX controls in managed code. . Exposing Windows Forms Controls as ActiveX\n",
      "  controls. . Importing and Extending ActiveX Controls in .NET. . C# Tutorials - ActiveX With C# .\n",
      "  CodeGuru: Extensible OLE Property Pages in .NET . Writing an ActiveX Control in .NET . Hosting\n",
      "  ActiveX Controls in the .NET Compact Framework 2.0 . Hosting Windows Forms Controls in COM Control\n",
      "  Containers - O'Reilly Media.\n",
      "\n",
      "Sentiment_Label: positive, Sentiment_Score: 0.8796294927597046\n",
      "Body: class GuitarComponentFactory . {. public: virtual ~GuitarComponentFactory() = 0 {}. };. In\n",
      "  your derived you don't provide a destructor, hence it's still an abstract class. .\n",
      "\n",
      "Sentiment_Label: positive, Sentiment_Score: 0.8730605244636536\n",
      "Body: The exception is a checked exception. This means that it must either be declared in the\n",
      "  clause of the enclosing method or caught and handled withing the method body.. However, what you are\n",
      "  doing in your \"fixed\" version is to catch the exception, rethrow it and then immediately catch it\n",
      "  again. That doesn't make much sense.. Without seeing the real code, it is not clear what the real\n",
      "  solution should be, but I expect that the problem is in the original handler:. If possible, you\n",
      "  should catch a more specific exception at that point, so that when you rethrow it, it is covered by\n",
      "  the method's existing list.. Alternatively, you could wrap the exception in an unchecked exception\n",
      "  and throw that instead.. As a last resort, you could change the signature of the method to include\n",
      "  in the throws list. But that's a really bad idea, because it just pushes the problem off to the\n",
      "  caller ... and leaves the developer / reader in the position of not knowing what exceptions to\n",
      "  expect..\n",
      "\n"
     ]
    }
   ],
   "source": [
    "# Imprime o Body de 3 respostas positivas (não foram impressas as primerias 3 porque eram muitos grandes para caber em um print)\n",
    "for index, row in positive_answers_df[3:6].iterrows():\n",
    "    print(f\"Sentiment_Label: {row.Sentiment_Label}, Sentiment_Score: {row.Sentiment_Score}\")\n",
    "    print_text(f\"Body: {row.Body}\", 100, \"  \")\n",
    "    print()"
   ]
  },
  {
   "attachments": {},
   "cell_type": "markdown",
   "metadata": {},
   "source": [
    "Podemos ver que as classificações positivas e negativas apesar de acusarem um score alto de chance de acerto, não apresentam uma classificação adequada, se assemelham muito mais ao que consideraríamos de neutro. Já as neutras aparentam ter uma classificação adequada."
   ]
  },
  {
   "attachments": {},
   "cell_type": "markdown",
   "metadata": {},
   "source": [
    "## Resultado"
   ]
  },
  {
   "attachments": {},
   "cell_type": "markdown",
   "metadata": {},
   "source": [
    "Com base apenas na análise de sentimentos utilizando o modelo cardiffnlp/twitter-xlm-roberta-base-sentiment, podemos concluir que a maioria das respostas são neutras, e as classificações positivas e negativas aparentam ser falsos positivos, ou seja, não são classificações adequadas. Portanto, com os dados obtidos, podemos chegar a possíveis 3 conclusões (e não excludentes entre si):\n",
    "- Não existe um problema de indelicadeza nas respostas do StackOverflow (e ou a moderação é eficiente);\n",
    "- O modelo utilizado não é adequado para a classificação de sentimentos em respostas deste tipo;\n",
    "- Talvez alguma parametrização do modelo ou do dataset de treinamento possa melhorar a classificação."
   ]
  }
 ],
 "metadata": {
  "kernelspec": {
   "display_name": "base",
   "language": "python",
   "name": "python3"
  },
  "language_info": {
   "codemirror_mode": {
    "name": "ipython",
    "version": 3
   },
   "file_extension": ".py",
   "mimetype": "text/x-python",
   "name": "python",
   "nbconvert_exporter": "python",
   "pygments_lexer": "ipython3",
   "version": "3.10.9"
  },
  "orig_nbformat": 4
 },
 "nbformat": 4,
 "nbformat_minor": 2
}
