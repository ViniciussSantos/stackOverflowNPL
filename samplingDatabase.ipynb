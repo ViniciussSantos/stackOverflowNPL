{
 "cells": [
  {
   "cell_type": "code",
   "execution_count": 1,
   "metadata": {},
   "outputs": [],
   "source": [
    "import pandas as pd"
   ]
  },
  {
   "cell_type": "code",
   "execution_count": null,
   "metadata": {},
   "outputs": [],
   "source": [
    "sample_size = 20000"
   ]
  },
  {
   "cell_type": "code",
   "execution_count": 23,
   "metadata": {},
   "outputs": [],
   "source": [
    "# gerando sample de respostas (execução: 20s)\n",
    "answers_df = pd.read_csv('data/Answers.csv', encoding=\"ISO-8859-1\", usecols = ['Id', 'Score', 'Body'])\n",
    "answers_df_sample = answers_df.sample(sample_size)\n",
    "answers_df_sample.to_csv('data/Answers_sample.csv', index=False)"
   ]
  },
  {
   "cell_type": "code",
   "execution_count": 24,
   "metadata": {},
   "outputs": [],
   "source": [
    "# gerando sample de perguntas (execução: 25s)\n",
    "questions_df = pd.read_csv('data/Questions.csv', encoding=\"ISO-8859-1\", usecols =['Id','Score', 'Title', 'Body'])\n",
    "questions_df_sample = questions_df.sample(sample_size)\n",
    "questions_df_sample.to_csv('data/Questions_sample.csv', index=False)"
   ]
  },
  {
   "cell_type": "code",
   "execution_count": 26,
   "metadata": {},
   "outputs": [],
   "source": [
    "# gerando sample de tags (execução: 1s)\n",
    "tags_df = pd.read_csv('data/Tags.csv', encoding=\"ISO-8859-1\", usecols =['Id','Tag'])\n",
    "tags_df_sample = tags_df.sample(sample_size)\n",
    "tags_df_sample.to_csv('data/Tags_sample.csv', index=False)"
   ]
  }
 ],
 "metadata": {
  "kernelspec": {
   "display_name": "base",
   "language": "python",
   "name": "python3"
  },
  "language_info": {
   "codemirror_mode": {
    "name": "ipython",
    "version": 3
   },
   "file_extension": ".py",
   "mimetype": "text/x-python",
   "name": "python",
   "nbconvert_exporter": "python",
   "pygments_lexer": "ipython3",
   "version": "3.10.9"
  },
  "orig_nbformat": 4
 },
 "nbformat": 4,
 "nbformat_minor": 2
}
